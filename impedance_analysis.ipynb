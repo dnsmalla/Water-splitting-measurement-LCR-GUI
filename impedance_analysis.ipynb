{
 "cells": [
  {
   "cell_type": "code",
   "execution_count": 1,
   "id": "4cc6cbf3",
   "metadata": {},
   "outputs": [
    {
     "name": "stdout",
     "output_type": "stream",
     "text": [
      "[3.1623e-03 3.9811e-03 5.0119e-03 6.3096e-03 7.9433e-03 1.0000e-02\n",
      " 1.2589e-02 1.5849e-02 1.9953e-02 2.5119e-02 3.1623e-02 3.9811e-02\n",
      " 5.0119e-02 6.3096e-02 7.9433e-02 1.0000e-01 1.2589e-01 1.5849e-01\n",
      " 1.9953e-01 2.5119e-01 3.1623e-01 3.9811e-01 5.0119e-01 6.3096e-01\n",
      " 7.9433e-01 1.0000e+00 1.2589e+00 1.5849e+00 1.9953e+00 2.5119e+00\n",
      " 3.1623e+00 3.9811e+00 5.0119e+00 6.3096e+00 7.9433e+00 1.0000e+01\n",
      " 1.2589e+01 1.5849e+01 1.9953e+01 2.5119e+01 3.1623e+01 3.9811e+01\n",
      " 5.0119e+01 6.3096e+01 7.9433e+01 1.0000e+02 1.2589e+02 1.5849e+02\n",
      " 1.9953e+02 2.5119e+02 3.1623e+02 3.9811e+02 5.0119e+02 6.3096e+02\n",
      " 7.9433e+02 1.0000e+03 1.2589e+03 1.5849e+03 1.9953e+03 2.5119e+03\n",
      " 3.1623e+03 3.9811e+03 5.0119e+03 6.3096e+03 7.9433e+03 1.0000e+04] [0.0494999 -0.0204387j  0.04776559-0.01828569j 0.04613582-0.01634316j\n",
      " 0.04459684-0.01458917j 0.0431423 -0.01300096j 0.04181679-0.01157301j\n",
      " 0.04060674-0.01028213j 0.03951932-0.00911337j 0.03856629-0.00804495j\n",
      " 0.03773446-0.0070757j  0.03701391-0.00620994j 0.03639992-0.00545066j\n",
      " 0.03588318-0.00480461j 0.03544781-0.00426302j 0.03506693-0.00381672j\n",
      " 0.03472171-0.00346523j 0.03440366-0.00319362j 0.03410784-0.00298433j\n",
      " 0.03382111-0.00284202j 0.03353617-0.00275108j 0.03325246-0.00270928j\n",
      " 0.03295911-0.0027164j  0.03265643-0.0027688j  0.03232796-0.00286875j\n",
      " 0.03197349-0.00299533j 0.03158436-0.00316339j 0.03106994-0.00343452j\n",
      " 0.03046142-0.0036527j  0.02990071-0.00389595j 0.02937911-0.00414964j\n",
      " 0.02861449-0.00435636j 0.02787738-0.00452851j 0.02705194-0.00462397j\n",
      " 0.02622643-0.00463483j 0.02539678-0.00456254j 0.02467403-0.00441838j\n",
      " 0.02398422-0.00421394j 0.02337619-0.0039762j  0.02279579-0.00372902j\n",
      " 0.02229049-0.00355789j 0.02183348-0.00335096j 0.02142395-0.00318265j\n",
      " 0.02104498-0.00305072j 0.02061275-0.00293869j 0.0202096 -0.00284803j\n",
      " 0.01976049-0.00275839j 0.01939719-0.0026767j  0.01898347-0.00257586j\n",
      " 0.01856286-0.00245581j 0.01817395-0.00231632j 0.0177771 -0.0021495j\n",
      " 0.01738294-0.00194926j 0.01702741-0.00171517j 0.01666449-0.00143579j\n",
      " 0.0163387 -0.00110944j 0.01606117-0.0007287j  0.01580888-0.00028277j\n",
      " 0.01558476+0.00024225j 0.01535553+0.00085607j 0.01519953+0.00158115j\n",
      " 0.01517109+0.00245285j 0.01512601+0.00348813j 0.01508688+0.00471294j\n",
      " 0.01527625+0.00623944j 0.01546764+0.00803169j 0.01577148+0.01015747j]\n",
      "this is step2\n",
      "[3.1623e-03 3.9811e-03 5.0119e-03 6.3096e-03 7.9433e-03 1.0000e-02\n",
      " 1.2589e-02 1.5849e-02 1.9953e-02 2.5119e-02 3.1623e-02 3.9811e-02\n",
      " 5.0119e-02 6.3096e-02 7.9433e-02 1.0000e-01 1.2589e-01 1.5849e-01\n",
      " 1.9953e-01 2.5119e-01 3.1623e-01 3.9811e-01 5.0119e-01 6.3096e-01\n",
      " 7.9433e-01 1.0000e+00 1.2589e+00 1.5849e+00 1.9953e+00 2.5119e+00\n",
      " 3.1623e+00 3.9811e+00 5.0119e+00 6.3096e+00 7.9433e+00 1.0000e+01\n",
      " 1.2589e+01 1.5849e+01 1.9953e+01 2.5119e+01 3.1623e+01 3.9811e+01\n",
      " 5.0119e+01 6.3096e+01 7.9433e+01 1.0000e+02 1.2589e+02 1.5849e+02\n",
      " 1.9953e+02 2.5119e+02 3.1623e+02 3.9811e+02 5.0119e+02 6.3096e+02\n",
      " 7.9433e+02 1.0000e+03 1.2589e+03] [0.0494999 -0.0204387j  0.04776559-0.01828569j 0.04613582-0.01634316j\n",
      " 0.04459684-0.01458917j 0.0431423 -0.01300096j 0.04181679-0.01157301j\n",
      " 0.04060674-0.01028213j 0.03951932-0.00911337j 0.03856629-0.00804495j\n",
      " 0.03773446-0.0070757j  0.03701391-0.00620994j 0.03639992-0.00545066j\n",
      " 0.03588318-0.00480461j 0.03544781-0.00426302j 0.03506693-0.00381672j\n",
      " 0.03472171-0.00346523j 0.03440366-0.00319362j 0.03410784-0.00298433j\n",
      " 0.03382111-0.00284202j 0.03353617-0.00275108j 0.03325246-0.00270928j\n",
      " 0.03295911-0.0027164j  0.03265643-0.0027688j  0.03232796-0.00286875j\n",
      " 0.03197349-0.00299533j 0.03158436-0.00316339j 0.03106994-0.00343452j\n",
      " 0.03046142-0.0036527j  0.02990071-0.00389595j 0.02937911-0.00414964j\n",
      " 0.02861449-0.00435636j 0.02787738-0.00452851j 0.02705194-0.00462397j\n",
      " 0.02622643-0.00463483j 0.02539678-0.00456254j 0.02467403-0.00441838j\n",
      " 0.02398422-0.00421394j 0.02337619-0.0039762j  0.02279579-0.00372902j\n",
      " 0.02229049-0.00355789j 0.02183348-0.00335096j 0.02142395-0.00318265j\n",
      " 0.02104498-0.00305072j 0.02061275-0.00293869j 0.0202096 -0.00284803j\n",
      " 0.01976049-0.00275839j 0.01939719-0.0026767j  0.01898347-0.00257586j\n",
      " 0.01856286-0.00245581j 0.01817395-0.00231632j 0.0177771 -0.0021495j\n",
      " 0.01738294-0.00194926j 0.01702741-0.00171517j 0.01666449-0.00143579j\n",
      " 0.0163387 -0.00110944j 0.01606117-0.0007287j  0.01580888-0.00028277j]\n"
     ]
    }
   ],
   "source": [
    "from impedance import preprocessing\n",
    "# Load data from the example EIS result\n",
    "frequencies, Z = preprocessing.readCSV('./EIS_fiting/input_data/exampleData.csv')\n",
    "print(frequencies, Z)\n",
    "# keep only the impedance data in the first quandrant\n",
    "frequencies, Z = preprocessing.ignoreBelowX(frequencies, Z)\n",
    "print(\"this is step2\")\n",
    "print(frequencies, Z)"
   ]
  },
  {
   "cell_type": "code",
   "execution_count": 2,
   "id": "623294aa",
   "metadata": {},
   "outputs": [],
   "source": [
    "from impedance.models.circuits import CustomCircuit\n",
    "\n",
    "circuit = 'R0-p(R1,C1)-p(R2-Wo1,C2)'\n",
    "initial_guess = [.01, .01, 100, .01, .05, 100, 1]\n",
    "\n",
    "circuit = CustomCircuit(circuit, initial_guess=initial_guess)"
   ]
  },
  {
   "cell_type": "code",
   "execution_count": 7,
   "id": "75a8c1fd",
   "metadata": {},
   "outputs": [
    {
     "name": "stdout",
     "output_type": "stream",
     "text": [
      "[0.04926616-0.01905885j 0.0482407 -0.01705737j 0.04695427-0.01550431j\n",
      " 0.04547013-0.01417662j 0.0439076 -0.01292025j 0.04239967-0.01167566j\n",
      " 0.04103999-0.01046177j 0.03985811-0.00932715j 0.03883588-0.00830715j\n",
      " 0.03793909-0.00740799j 0.03714102-0.00661661j 0.03642757-0.00591713j\n",
      " 0.03579062-0.00529831j 0.03522266-0.00475269j 0.03471615-0.0042742j\n",
      " 0.03426414-0.00385753j 0.03386044-0.0034985j  0.03349927-0.00319389j\n",
      " 0.03317539-0.00294178j 0.03288369-0.0027414j  0.0326189 -0.00259316j\n",
      " 0.03237546-0.00249892j 0.03214688-0.00246194j 0.0319251 -0.00248684j\n",
      " 0.03169945-0.00257937j 0.03145539-0.00274554j 0.03117297-0.00298994j\n",
      " 0.03082544-0.0033125j  0.03037976-0.00370287j 0.02980053-0.00413351j\n",
      " 0.02906058-0.00455397j 0.0281587 -0.00489292j 0.02713592-0.00507602j\n",
      " 0.02607513-0.00505685j 0.02507495-0.00484163j 0.02421204-0.00448688j\n",
      " 0.02351857-0.00407205j 0.02298492-0.00366966j 0.02257721-0.00333035j\n",
      " 0.02225275-0.00308158j 0.02196894-0.00293284j 0.02168631-0.00288055j\n",
      " 0.02136887-0.00290973j 0.02098612-0.00299306j 0.02051853-0.00308996j\n",
      " 0.01996656-0.00315036j 0.01935761-0.00312688j 0.01874205-0.00299252j\n",
      " 0.01817632-0.00275222j 0.01770154-0.00243823j 0.01733302-0.00209311j\n",
      " 0.01706427-0.00175369j 0.01687713-0.00144363j 0.01675101-0.00117396j\n",
      " 0.01666791-0.00094684j 0.01661396-0.00075953j 0.01657928-0.00060714j]\n"
     ]
    }
   ],
   "source": [
    "circuit.fit(frequencies, Z)\n",
    "Z_fit = circuit.predict(frequencies)\n",
    "print(Z_fit)"
   ]
  },
  {
   "cell_type": "code",
   "execution_count": 20,
   "id": "f241cbeb",
   "metadata": {},
   "outputs": [
    {
     "name": "stdout",
     "output_type": "stream",
     "text": [
      "\n",
      "Circuit string: R0-p(R1,C1)-p(R2-Wo1,C2)\n",
      "Fit: True\n",
      "\n",
      "Initial guesses:\n",
      "     R0 = 1.00e-02 [Ohm]\n",
      "     R1 = 1.00e-02 [Ohm]\n",
      "     C1 = 1.00e+02 [F]\n",
      "     R2 = 1.00e-02 [Ohm]\n",
      "  Wo1_0 = 5.00e-02 [Ohm]\n",
      "  Wo1_1 = 1.00e+02 [sec]\n",
      "     C2 = 1.00e+00 [F]\n",
      "\n",
      "Fit parameters:\n",
      "     R0 = 1.65e-02  (+/- 1.54e-04) [Ohm]\n",
      "     R1 = 8.68e-03  (+/- 1.91e-04) [Ohm]\n",
      "     C1 = 3.32e+00  (+/- 1.90e-01) [F]\n",
      "     R2 = 5.39e-03  (+/- 2.06e-04) [Ohm]\n",
      "  Wo1_0 = 6.31e-02  (+/- 1.94e-03) [Ohm]\n",
      "  Wo1_1 = 2.33e+02  (+/- 1.62e+01) [sec]\n",
      "     C2 = 2.20e-01  (+/- 1.75e-02) [F]\n",
      "\n"
     ]
    }
   ],
   "source": [
    "print(circuit)"
   ]
  },
  {
   "cell_type": "code",
   "execution_count": 19,
   "id": "5b69426b",
   "metadata": {},
   "outputs": [
    {
     "name": "stdout",
     "output_type": "stream",
     "text": [
      "[1.65187261e-02 8.67655053e-03 3.32142555e+00 5.38996276e-03\n",
      " 6.30927433e-02 2.32520433e+02 2.19541825e-01]\n"
     ]
    }
   ],
   "source": [
    "print(circuit.parameters_)"
   ]
  },
  {
   "cell_type": "code",
   "execution_count": null,
   "id": "a84a825a",
   "metadata": {},
   "outputs": [],
   "source": [
    "import matplotlib.pyplot as plt\n",
    "from impedance.visualization import plot_nyquist\n",
    "\n",
    "fig, ax = plt.subplots()\n",
    "plot_nyquist(ax, Z, fmt='o')\n",
    "plot_nyquist(ax, Z_fit, fmt='-')\n",
    "\n",
    "plt.legend(['Data', 'Fit'])\n",
    "plt.show()"
   ]
  },
  {
   "cell_type": "code",
   "execution_count": null,
   "id": "c339d2be",
   "metadata": {},
   "outputs": [],
   "source": [
    "from impedance.models.circuits import Randles, CustomCircuit\n",
    "randles = Randles(initial_guess=[.01, .005, .1, .001, 200])\n",
    "randlesCPE = Randles(initial_guess=[.01, .005, .1, .9, .001, 200], CPE=True)\n",
    "customCircuit = CustomCircuit(initial_guess=[.01, .005, .1, .005, .1, .001, 200],\n",
    "                              circuit='R_0-p(R_1,C_1)-p(R_2,C_2)-Wo_1')\n",
    "customConstantCircuit = CustomCircuit(initial_guess=[None, .005, .1, .005, .1, .001, None],\n",
    "                                      constants={'R_0': 0.02, 'Wo_1_1': 200},\n",
    "                                      circuit='R_0-p(R_1,C_1)-p(R_2,C_2)-Wo_1')\n",
    "randles.fit(frequencies, Z)\n",
    "randlesCPE.fit(frequencies, Z)\n",
    "customCircuit.fit(frequencies, Z)\n",
    "customConstantCircuit.fit(frequencies, Z)\n",
    "\n",
    "print(customConstantCircuit)"
   ]
  },
  {
   "cell_type": "code",
   "execution_count": null,
   "id": "5fd0aa9b",
   "metadata": {},
   "outputs": [],
   "source": [
    "import matplotlib.pyplot as plt\n",
    "import numpy as np\n",
    "from impedance.visualization import plot_nyquist\n",
    "\n",
    "f_pred = np.logspace(5,-2)\n",
    "\n",
    "randles_fit = randles.predict(f_pred)\n",
    "randlesCPE_fit = randlesCPE.predict(f_pred)\n",
    "customCircuit_fit = customCircuit.predict(f_pred)\n",
    "customConstantCircuit_fit = customConstantCircuit.predict(f_pred)\n",
    "\n",
    "fig, ax = plt.subplots(figsize=(5,5))\n",
    "\n",
    "plot_nyquist(ax, Z)\n",
    "plot_nyquist(ax, randles_fit, fmt='-')\n",
    "plot_nyquist(ax, randlesCPE_fit, fmt='-')\n",
    "plot_nyquist(ax, customCircuit_fit, fmt='-')\n",
    "plot_nyquist(ax, customConstantCircuit_fit, fmt='-')\n",
    "\n",
    "ax.legend(['Data', 'Randles', 'Randles w/ CPE', 'Custom Circuit', 'Custom Circuit w/ Constant R0 and W1_1'])\n",
    "plt.show()\n"
   ]
  },
  {
   "cell_type": "code",
   "execution_count": null,
   "id": "739bfcc8",
   "metadata": {},
   "outputs": [],
   "source": [
    "import impedance.models.circuits as circuits\n",
    "from impedance.visualization import plot_nyquist\n",
    "import numpy as np\n",
    "import matplotlib.pyplot as plt\n",
    "test_circuit = circuits.CustomCircuit(initial_guess=[.01, .005, .1, .005, .1, .001, 200],\n",
    "                              circuit='R0-p(R1,C1)-p(R2,C2)-Wo1')\n",
    "\n",
    "print(test_circuit)\n",
    "\n",
    "test_circuit.save('template_model.json')"
   ]
  },
  {
   "cell_type": "code",
   "execution_count": null,
   "id": "ffc6e5f1",
   "metadata": {},
   "outputs": [],
   "source": [
    "loaded_template = circuits.CustomCircuit()\n",
    "loaded_template.load('template_model.json')\n",
    "\n",
    "print(\"Loaded Template\")\n",
    "print(loaded_template)"
   ]
  },
  {
   "cell_type": "code",
   "execution_count": null,
   "id": "7dd923c5",
   "metadata": {},
   "outputs": [],
   "source": [
    "fig, ax = plt.subplots(figsize=(5,5))\n",
    "f_pred = np.logspace(5,-2)\n",
    "loaded_template.fit(frequencies, Z)\n",
    "\n",
    "imported_circuit_init = loaded_template.predict(f_pred, use_initial = True)\n",
    "imported_circuit_fit = loaded_template.predict(f_pred)\n",
    "\n",
    "plot_nyquist(ax, Z)\n",
    "plot_nyquist(ax, imported_circuit_init)\n",
    "plot_nyquist(ax, imported_circuit_fit)\n",
    "\n",
    "ax.legend(['Data', 'Loaded Template Initial', 'Loaded Template Fit'])\n",
    "\n",
    "plt.show()\n",
    "print(loaded_template)"
   ]
  },
  {
   "cell_type": "code",
   "execution_count": null,
   "id": "18e6cd72",
   "metadata": {},
   "outputs": [],
   "source": [
    "import matplotlib.pyplot as plt\n",
    "import numpy as np\n",
    "import glob\n",
    "import numpy as np\n",
    "import os\n",
    "from impedance.models.circuits import CustomCircuit\n",
    "from impedance import preprocessing"
   ]
  },
  {
   "cell_type": "code",
   "execution_count": null,
   "id": "4820aac8",
   "metadata": {},
   "outputs": [],
   "source": [
    "directory = r'././EIS_fiting/input_data/'\n",
    "all_files = glob.glob(os.path.join(directory, 'Circuit*EIS*.z'))\n",
    "all_files"
   ]
  },
  {
   "cell_type": "code",
   "execution_count": null,
   "id": "4daf90c6",
   "metadata": {},
   "outputs": [],
   "source": [
    "from impedance import preprocessing\n",
    "# Initialize some empty lists for the frequencies and Z data\n",
    "freqs = []\n",
    "Zs = []\n",
    "\n",
    "# Now loop through file names in our list and extract data one by one\n",
    "for filename in all_files:\n",
    "    f, Z = preprocessing.readZPlot(filename)\n",
    "    freqs.append(f)\n",
    "    Zs.append(Z)\n",
    "\n",
    "# Check to see if we extracted data for all the files\n",
    "print(np.shape(Zs), np.shape(all_files))"
   ]
  },
  {
   "cell_type": "code",
   "execution_count": null,
   "id": "47033e70",
   "metadata": {},
   "outputs": [],
   "source": [
    "from impedance.models.circuits import CustomCircuit\n",
    "# This data comes from dummy circuits I made to check measurement bias in\n",
    "# our potentiostat, so I know a priori its an R-RC circuit\n",
    "\n",
    "circuits = []\n",
    "\n",
    "circ_string = 'R0-p(R1,C1)'\n",
    "initial_guess = [100, 400, 1e-5]\n",
    "\n",
    "# Now loop through data list to create circuits and fit them\n",
    "for f, Z, filename in zip(freqs, Zs, all_files):\n",
    "    name = filename.split('/')[-1]\n",
    "    circuit = CustomCircuit(circ_string, initial_guess=initial_guess, name=name)\n",
    "    circuit.fit(f, Z)\n",
    "    circuits.append(circuit)"
   ]
  },
  {
   "cell_type": "code",
   "execution_count": null,
   "id": "aa1da880",
   "metadata": {},
   "outputs": [],
   "source": [
    "for circuit in circuits:\n",
    "    print(circuit)"
   ]
  },
  {
   "cell_type": "code",
   "execution_count": null,
   "id": "ff6f20af",
   "metadata": {},
   "outputs": [],
   "source": [
    "fits = []\n",
    "for f, circuit in zip(freqs, circuits):\n",
    "    fits.append(circuit.predict(f))"
   ]
  },
  {
   "cell_type": "code",
   "execution_count": null,
   "id": "870a99c7",
   "metadata": {},
   "outputs": [],
   "source": [
    "import matplotlib.pyplot as plt\n",
    "from impedance.visualization import plot_nyquist, plot_bode"
   ]
  },
  {
   "cell_type": "code",
   "execution_count": null,
   "id": "b89de9aa",
   "metadata": {},
   "outputs": [],
   "source": [
    "fig, ax = plt.subplots()\n",
    "\n",
    "for fit, Z in zip(fits, Zs):\n",
    "    # Plotting data\n",
    "    plot_nyquist(ax, Z)\n",
    "\n",
    "    # Plotting fit\n",
    "    plot_nyquist(ax, fit)\n",
    "\n",
    "plt.show()"
   ]
  },
  {
   "cell_type": "code",
   "execution_count": null,
   "id": "cc73d4fd",
   "metadata": {},
   "outputs": [],
   "source": [
    "# Nyquist plots\n",
    "fig, axes = plt.subplots(ncols=3, figsize=(22,6))\n",
    "for circuit, Z, fit in zip(circuits, Zs, fits):\n",
    "    n = int(circuit.name.split('Circuit')[-1].split('_')[0])\n",
    "    plot_nyquist(axes[n - 1], Z)\n",
    "    plot_nyquist(axes[n - 1], fit)\n",
    "\n",
    "# Bode plots\n",
    "fig, axes = plt.subplots(nrows=2, ncols=3, figsize=(22,6))\n",
    "for circuit, f, Z, fit in zip(circuits, freqs, Zs, fits):\n",
    "    n = int(circuit.name.split('Circuit')[-1].split('_')[0])\n",
    "    plot_bode([axes[0][n - 1], axes[1][n - 1]], f, Z)\n",
    "    plot_bode([axes[0][n - 1], axes[1][n - 1]], f, fit)\n",
    "\n",
    "plt.show()"
   ]
  },
  {
   "cell_type": "code",
   "execution_count": null,
   "id": "6d6b57dd",
   "metadata": {},
   "outputs": [],
   "source": []
  }
 ],
 "metadata": {
  "kernelspec": {
   "display_name": "Python (lcr)",
   "language": "python",
   "name": "lcr"
  },
  "language_info": {
   "codemirror_mode": {
    "name": "ipython",
    "version": 3
   },
   "file_extension": ".py",
   "mimetype": "text/x-python",
   "name": "python",
   "nbconvert_exporter": "python",
   "pygments_lexer": "ipython3",
   "version": "3.8.6"
  }
 },
 "nbformat": 4,
 "nbformat_minor": 5
}
